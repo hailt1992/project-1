{
 "cells": [
  {
   "cell_type": "markdown",
   "id": "69316cc1",
   "metadata": {},
   "source": [
    "### Bài 1"
   ]
  },
  {
   "cell_type": "markdown",
   "id": "17d5756e",
   "metadata": {},
   "source": [
    "Viết Hàm my_info() nhận vào 2 tham số name và course, sau đó in ra thông tin tương ứng .</p>\n",
    "Ví dụ : my_info('Nam','Python')</p>\n",
    "    Output: </p>\n",
    "        My name is Nam </p>\n",
    "        I'am studying Python "
   ]
  },
  {
   "cell_type": "code",
   "execution_count": 3,
   "id": "028d0d79",
   "metadata": {},
   "outputs": [
    {
     "name": "stdout",
     "output_type": "stream",
     "text": [
      "Student name: Nam\n",
      "Course:Python\n",
      "My name is Nam\n",
      "\n",
      "I'am studying Python\n"
     ]
    }
   ],
   "source": [
    "# def my_info(...parameter here...):\n",
    "#     # code below this line\n",
    "#     pass\n",
    "#     # code above this line \n",
    "# my_info('Nam','Python')\n",
    "\n",
    "def my_info(name,course):\n",
    "    print(\"My name is\", name)\n",
    "    print(\"\")\n",
    "    print(\"I'am studying\", course)\n",
    "    pass\n",
    "\n",
    "a = str(input(\"Student name: \"))\n",
    "b = str(input(\"Course:\"))\n",
    "\n",
    "my_info(a,b)"
   ]
  },
  {
   "cell_type": "code",
   "execution_count": null,
   "id": "dc824816",
   "metadata": {},
   "outputs": [],
   "source": []
  },
  {
   "cell_type": "markdown",
   "id": "18cc0594",
   "metadata": {},
   "source": [
    "### Bài  2 "
   ]
  },
  {
   "cell_type": "markdown",
   "id": "5ee884c4",
   "metadata": {},
   "source": [
    "Viết hàm sum_even() nhận vào một số n và in ra tổng số chẵn từ 2 tới n . </p>\n",
    "Ví dụ : sum_even(10) </p>\n",
    "    Output: 30"
   ]
  },
  {
   "cell_type": "code",
   "execution_count": 1,
   "id": "a5fc08f3",
   "metadata": {},
   "outputs": [
    {
     "name": "stdout",
     "output_type": "stream",
     "text": [
      "n = 10\n",
      "Tổng các số chẵn từ 2 tới n là:  30\n"
     ]
    }
   ],
   "source": [
    "# def sum_even(n):\n",
    "#     # code below this line \n",
    "\n",
    "#     # code above this line\n",
    "# sum_even(10)\n",
    "\n",
    "def sum_even(n):\n",
    "    sum = 0\n",
    "    for i in range (2,n+1):\n",
    "        if i% 2 == 0:\n",
    "            sum += i \n",
    "    print(\"Tổng các số chẵn từ 2 tới n là: \", sum)\n",
    "    pass\n",
    "n = int(input(\"n = \"))\n",
    "\n",
    "sum_even(n)"
   ]
  },
  {
   "cell_type": "code",
   "execution_count": null,
   "id": "ceb05062",
   "metadata": {},
   "outputs": [],
   "source": []
  },
  {
   "cell_type": "markdown",
   "id": "712dd142",
   "metadata": {},
   "source": [
    "### Bài 3"
   ]
  },
  {
   "cell_type": "markdown",
   "id": "e1abe5b9",
   "metadata": {},
   "source": [
    "Viết hàm easy_math() nhận vào 3 tham số num1,num2,op, để thực hiện phép tính tương ứng và in ra kết quả.</p>\n",
    "Ví dụ : easy_math(5,'+',5) </p>\n",
    "    Output: 10"
   ]
  },
  {
   "cell_type": "code",
   "execution_count": 5,
   "id": "e12767ae",
   "metadata": {},
   "outputs": [
    {
     "name": "stdout",
     "output_type": "stream",
     "text": [
      "1.0\n",
      "1.0\n"
     ]
    }
   ],
   "source": [
    "# def easy_math (num1,op,num2):\n",
    "#     # code below this line\n",
    "\n",
    "#     # code above this line\n",
    "# easy_math(5,'/',5)\n",
    "\n"
   ]
  },
  {
   "cell_type": "code",
   "execution_count": 4,
   "id": "71e0460a",
   "metadata": {},
   "outputs": [
    {
     "name": "stdout",
     "output_type": "stream",
     "text": [
      "Num1 = 4\n",
      "Num2 = 2\n",
      "Op = /\n",
      "2.0\n"
     ]
    }
   ],
   "source": [
    "def easy_math(num1, op, num2):\n",
    "    if op == \"*\":\n",
    "        print(num1*num2)\n",
    "    elif op == \"/\":\n",
    "        print(num1/num2)\n",
    "    elif op == \"+\":\n",
    "        print(\"Kết quanum1+num2)\n",
    "    elif op == \"-\":\n",
    "        print(\"Kết quả là \", num1-num2)\n",
    "num1 = float(input(\"Num1 = \"))\n",
    "num2 = float(input(\"Num2 = \"))\n",
    "op = str(input(\"Op = \"))\n",
    "\n",
    "easy_math(num1, op, num2)\n",
    "    "
   ]
  },
  {
   "cell_type": "markdown",
   "id": "28155cbe",
   "metadata": {},
   "source": [
    "### Bài 4 : "
   ]
  },
  {
   "cell_type": "markdown",
   "id": "4f7de14a",
   "metadata": {},
   "source": [
    "Viết hàm check_even() nhận vào một số number và kiểm tra xem number có phải số chẵn hay không.</p>\n",
    "Ví dụ : check_even(5)</p>\n",
    "    Ouput: 5 là số lẻ"
   ]
  },
  {
   "cell_type": "code",
   "execution_count": 6,
   "id": "9bd5a230",
   "metadata": {},
   "outputs": [
    {
     "name": "stdout",
     "output_type": "stream",
     "text": [
      "5 là số lẻ\n"
     ]
    }
   ],
   "source": [
    "# def check_even(number):\n",
    "#     #code below this line\n",
    "    \n",
    "#     # code above this line \n",
    "# check_even(5)"
   ]
  },
  {
   "cell_type": "code",
   "execution_count": 2,
   "id": "86da9c5c",
   "metadata": {},
   "outputs": [
    {
     "name": "stdout",
     "output_type": "stream",
     "text": [
      "a = 5\n",
      "5 là số lẻ\n"
     ]
    }
   ],
   "source": [
    "def check_even(a):\n",
    "    if a % 2 == 0:\n",
    "        print(f'{a} là số chắn')\n",
    "    else:\n",
    "        print(f'{a} là số lẻ')\n",
    "    pass\n",
    "a = int(input(\"a = \"))\n",
    "\n",
    "check_even(a)"
   ]
  },
  {
   "cell_type": "markdown",
   "id": "ac731a5c",
   "metadata": {},
   "source": [
    "### Bài 5 "
   ]
  },
  {
   "cell_type": "markdown",
   "id": "c8d3029a",
   "metadata": {},
   "source": [
    "Viết hàm transform_str() nhận vào tham số string và in ra string ở dưới dạng là Uppercase và lowercase.</p>\n",
    "Ví dụ : transform_str(\"Function Is Magic!\")</p>\n",
    "    Output:</p>\n",
    "        Lowercase: function is magic!</p>\n",
    "        Uppercase: FUNCTION IS MAGIC!"
   ]
  },
  {
   "cell_type": "code",
   "execution_count": 9,
   "id": "15cd0bda",
   "metadata": {},
   "outputs": [
    {
     "name": "stdout",
     "output_type": "stream",
     "text": [
      "Lowercase: fuction is magic\n",
      "Uppercase: FUCTION IS MAGIC\n"
     ]
    }
   ],
   "source": [
    "# def transform_str(string):\n",
    "#     #code below this line\n",
    "\n",
    "#     # code above this line\n",
    "# transform_str(\"Fuction Is Magic\")"
   ]
  },
  {
   "cell_type": "code",
   "execution_count": 4,
   "id": "2cf78e94",
   "metadata": {},
   "outputs": [
    {
     "name": "stdout",
     "output_type": "stream",
     "text": [
      " Nhập chuỗi muốn in: Lê Thu Hải\n",
      "Uppercase:  LÊ THU HẢI\n",
      "Lowercase:  lê thu hải\n"
     ]
    }
   ],
   "source": [
    "def transform_str(a):\n",
    "    print(\"Uppercase: \", a.upper())\n",
    "    print(\"Lowercase: \", a.lower())\n",
    "a = str(input(\" Nhập chuỗi muốn in: \"))\n",
    "\n",
    "transform_str(a)"
   ]
  },
  {
   "cell_type": "markdown",
   "id": "6486d1a9",
   "metadata": {},
   "source": [
    "### Bài 6:"
   ]
  },
  {
   "cell_type": "markdown",
   "id": "42ecab7b",
   "metadata": {},
   "source": [
    "viết hàm calculate_factorial() nhận vào tham số number và in ra giai thừa của tham số đó.</p>\n",
    "Ví dụ: calculate_factorial(5)</p>\n",
    "    Output: 120"
   ]
  },
  {
   "cell_type": "code",
   "execution_count": 10,
   "id": "e8fd812f",
   "metadata": {},
   "outputs": [
    {
     "name": "stdout",
     "output_type": "stream",
     "text": [
      "120\n"
     ]
    }
   ],
   "source": [
    "# def calculate_factorial(number):\n",
    "#     # code below this line\n",
    "\n",
    "#     # code above this line\n",
    "# calculate_factorial(5)"
   ]
  },
  {
   "cell_type": "code",
   "execution_count": 17,
   "id": "3f522973",
   "metadata": {},
   "outputs": [
    {
     "name": "stdout",
     "output_type": "stream",
     "text": [
      "Enter a number: 5\n",
      "Giai thừa của  5 là 120\n"
     ]
    }
   ],
   "source": [
    "def caculate_factorial(n):\n",
    "    factorial = 1\n",
    "    if n < 0:\n",
    "        return False\n",
    "    if n == 0 or n == 1:\n",
    "        return factorial\n",
    "    if n > 1:\n",
    "        for i in range(2, n + 1):\n",
    "            factorial *= i\n",
    "        return factorial\n",
    "    pass\n",
    "n = int(input(\"Enter a number: \"))\n",
    "\n",
    "print(\"Factorial of \", n, \"is \", caculate_factorial(n))\n",
    "        "
   ]
  },
  {
   "cell_type": "markdown",
   "id": "8106f04b",
   "metadata": {},
   "source": [
    "### Bài 7"
   ]
  },
  {
   "cell_type": "markdown",
   "id": "e5fd0a62",
   "metadata": {},
   "source": [
    "Dãy Fibonacci là dãy vô hạn các số tự nhiên bắt đầu bằng 1 và 1, sau đó là các số tiếp theo sẽ bằng tổng 2 số liền trước của nó.</p>\n",
    "Cụ thể , các số  đầu tiên của dãy Fibonacci là : 1,1,2,5,8,13,21,34,55,89,114,233,.....</p>\n",
    "    Yêu cầu : Viết chương trình find_fibo() nhận vào tham số index và in ra số Fibonacci ở vị trí index. Nếu index bằng 0 thì in ra 0 .</p>\n",
    "        ví dụ : find_fibo(1)</p> \n",
    "        Output : 1\n"
   ]
  },
  {
   "cell_type": "code",
   "execution_count": 14,
   "id": "a07ac8e0",
   "metadata": {},
   "outputs": [
    {
     "name": "stdout",
     "output_type": "stream",
     "text": [
      "377\n"
     ]
    }
   ],
   "source": [
    "# def find_fibo(index):\n",
    "#     # code below this line\n",
    "\n",
    "#         #code above this line\n",
    "# find_fibo(14)"
   ]
  },
  {
   "cell_type": "code",
   "execution_count": 24,
   "id": "a6fc6ba9",
   "metadata": {},
   "outputs": [
    {
     "name": "stdout",
     "output_type": "stream",
     "text": [
      "34\n"
     ]
    }
   ],
   "source": [
    "def fibonacci(num):\n",
    "\n",
    "    if num < 0:\n",
    "        print(\"Incorrect input\")\n",
    "        return\n",
    " \n",
    "    elif num < 2:\n",
    "        return num\n",
    " \n",
    "    return fibonacci(num - 1) + fibonacci(num - 2)\n",
    " \n",
    "\n",
    "print(fibonacci(9))"
   ]
  },
  {
   "cell_type": "code",
   "execution_count": 20,
   "id": "ab6974ae",
   "metadata": {},
   "outputs": [
    {
     "name": "stdout",
     "output_type": "stream",
     "text": [
      "34\n"
     ]
    }
   ],
   "source": [
    "def fibonacci(n):\n",
    "    a = 0\n",
    "    b = 1\n",
    "     \n",
    "    if n < 0:\n",
    "        print(\"Incorrect input\")\n",
    "        return 0 \n",
    "    elif n == 1:\n",
    "        return b\n",
    "    else:\n",
    "        for i in range(1, n):\n",
    "            c = a + b\n",
    "            a = b\n",
    "            b = c\n",
    "        return b\n",
    "\n",
    "print(fibonacci(9))"
   ]
  },
  {
   "cell_type": "code",
   "execution_count": 18,
   "id": "adac0a35",
   "metadata": {},
   "outputs": [
    {
     "name": "stdout",
     "output_type": "stream",
     "text": [
      "34\n"
     ]
    }
   ],
   "source": [
    "FibArray = [0, 1]\n",
    " \n",
    "def fibonacci(n):\n",
    "    if n < 0:\n",
    "        print(\"Incorrect input\")\n",
    "   \n",
    "    elif n < len(FibArray):\n",
    "        return FibArray[n]\n",
    "    else:       \n",
    "        FibArray.append(fibonacci(n - 1) + fibonacci(n - 2))\n",
    "        return FibArray[n]\n",
    "\n",
    "print(fibonacci(9))"
   ]
  },
  {
   "cell_type": "markdown",
   "id": "8ad1e67b",
   "metadata": {},
   "source": [
    "### Bài 8:"
   ]
  },
  {
   "cell_type": "markdown",
   "id": "fb36af24",
   "metadata": {},
   "source": [
    "Viết hàm find_divisors() nhận vào một số nguyên dương number và in ra tất cả các ước của number. </p>\n",
    "ví dụ : find_divisors(24)</p>\n",
    "    Output: ước cảu 24 là : 1,2,3,4,6,8,12,24"
   ]
  },
  {
   "cell_type": "code",
   "execution_count": 16,
   "id": "281e0d14",
   "metadata": {},
   "outputs": [
    {
     "name": "stdout",
     "output_type": "stream",
     "text": [
      "Ước của 24 là : 1, 2, 3, 4, 6, 8, 12, 24\n"
     ]
    }
   ],
   "source": [
    "# def find_divisors(number):\n",
    "#     # code below this line\n",
    "\n",
    "#     # code above this line\n",
    "# find_divisors(24)"
   ]
  },
  {
   "cell_type": "code",
   "execution_count": 3,
   "id": "68677b68",
   "metadata": {},
   "outputs": [
    {
     "name": "stdout",
     "output_type": "stream",
     "text": [
      "Ước của số 24 là 1 2 3 4 6 8 12 24 "
     ]
    }
   ],
   "source": [
    "def find_divisors(n):\n",
    "    print(f'Ước của số {n} là', end=\" \")\n",
    "    for i in range (1, n+1):\n",
    "        if n % i == 0:\n",
    "            print(i, end=\" \")\n",
    "    pass\n",
    "\n",
    "find_divisors(24)"
   ]
  },
  {
   "cell_type": "markdown",
   "id": "e052309f",
   "metadata": {},
   "source": [
    "### Bài 9:\n"
   ]
  },
  {
   "cell_type": "markdown",
   "id": "5bcd8937",
   "metadata": {},
   "source": [
    "Viết hàm solve_equation() để giải phường trình bậc nhất ax+b=0 với a và b là tham số đầu vào .</p>\n",
    "Ví dụ : solve_equation(2,-4)</p>\n",
    "    Ouput: x = 2</p>\n",
    "    solve_equation(0,0)</p>\n",
    "    Output: Phương trình vô số nghiệm\n",
    "    "
   ]
  },
  {
   "cell_type": "code",
   "execution_count": 18,
   "id": "b4e534f9",
   "metadata": {},
   "outputs": [
    {
     "name": "stdout",
     "output_type": "stream",
     "text": [
      "x = -2.0\n"
     ]
    }
   ],
   "source": [
    "# def solve_equation(a,b):\n",
    "#     # code below this line\n",
    "\n",
    "#     # code above this line\n",
    "# solve_equation(2,4)"
   ]
  },
  {
   "cell_type": "code",
   "execution_count": 41,
   "id": "3cb1bc5c",
   "metadata": {},
   "outputs": [
    {
     "name": "stdout",
     "output_type": "stream",
     "text": [
      "0.0\n"
     ]
    }
   ],
   "source": [
    "def solve_equation(a,b):\n",
    "    if a == 0 and b != 0:\n",
    "        print(\"Phương trình vô nghiệm\")\n",
    "    elif a == 0 and b == 0:\n",
    "        print(\"Phương trình có vô số nghiệm\")\n",
    "    else:\n",
    "        x = (-b)/a\n",
    "        print (x)\n",
    "        \n",
    "solve_equation(1,0)"
   ]
  },
  {
   "cell_type": "markdown",
   "id": "139cf44d",
   "metadata": {},
   "source": [
    "### Bài 10 (Có HD)"
   ]
  },
  {
   "cell_type": "markdown",
   "id": "c265cdb6",
   "metadata": {},
   "source": [
    "Hãy khai báo kiểu dữ liệu để biểu diễn thông tin của một nhân viên (NHANVIEN). Biết rằng một nhân viên gồm những thành phần sau:</p>\n",
    "– Mã nhân viên: chuỗi tối đa 5 ký tự</p>\n",
    "– Tên nhân viên: chuỗi tối đa 30 ký tự</p>\n",
    "– Lương nhân viên: kiểu số thực</p>\n",
    "Sau đó viết hàm nhập, xuất cho kiểu dữ liệu này"
   ]
  },
  {
   "cell_type": "code",
   "execution_count": null,
   "id": "ed826ff6",
   "metadata": {},
   "outputs": [],
   "source": [
    "manv = input(\"Nhập mã nhân viên:\")\n",
    "ten = input(\"Nhập tên nhân viên:\")\n",
    "luong = input(\"Nhập lương nhân viên:\")\n",
    "class NHANVIEN:\n",
    "    def __init__(self, manv, ten, luong):\n",
    "        self.manv = manv\n",
    "        self.ten = ten\n",
    "        self.luong = luong\n",
    "    def xuat(nhanvien):  \n",
    "        print(\"Mã nhân viên:\", nhanvien.manv)\n",
    "        print(\"Tên nhân viên:\", nhanvien.ten)\n",
    "        print(\"Lương nhân viên:\", nhanvien.luong)\n",
    "\n",
    "nv = NHANVIEN(manv, ten, luong)\n",
    "nv.xuat()\n",
    "\n"
   ]
  }
 ],
 "metadata": {
  "kernelspec": {
   "display_name": "Python 3 (ipykernel)",
   "language": "python",
   "name": "python3"
  },
  "language_info": {
   "codemirror_mode": {
    "name": "ipython",
    "version": 3
   },
   "file_extension": ".py",
   "mimetype": "text/x-python",
   "name": "python",
   "nbconvert_exporter": "python",
   "pygments_lexer": "ipython3",
   "version": "3.9.13"
  }
 },
 "nbformat": 4,
 "nbformat_minor": 5
}
