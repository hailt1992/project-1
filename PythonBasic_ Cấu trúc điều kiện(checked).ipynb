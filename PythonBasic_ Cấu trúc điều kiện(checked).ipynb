{
 "cells": [
  {
   "cell_type": "markdown",
   "id": "708131ba",
   "metadata": {},
   "source": [
    "# Thực Hành Cấu Trúc điều kiện"
   ]
  },
  {
   "cell_type": "markdown",
   "id": "5c195788",
   "metadata": {},
   "source": [
    "## Đề 1"
   ]
  },
  {
   "cell_type": "markdown",
   "id": "fc969f36",
   "metadata": {},
   "source": [
    "Bài 1: Viết một chương trình xác định một năm có phải năm nhuận hay không ?"
   ]
  },
  {
   "cell_type": "code",
   "execution_count": 13,
   "id": "948275f5",
   "metadata": {},
   "outputs": [
    {
     "name": "stdout",
     "output_type": "stream",
     "text": [
      "Nhập năm bạn muốn kiểm tra có phải năm nhuận hay không: 2030\n",
      "2030 Năm này không phải là năm nhuận\n"
     ]
    }
   ],
   "source": [
    "year = int(input(\"Nhập năm bạn muốn kiểm tra có phải năm nhuận hay không: \"))\n",
    "\n",
    "if year % 4 == 0:\n",
    "    if year % 100 == 0:\n",
    "        if year % 400 == 0:\n",
    "            print(year,\"Năm này là năm nhuận\")\n",
    "        else:\n",
    "            print(year,\"Năm này không phải là năm nhuận\")\n",
    "    else:\n",
    "        print(year,\"Năm này là năm nhuận\")\n",
    "else:\n",
    "    print(year,\"Năm này không phải là năm nhuận\")"
   ]
  },
  {
   "cell_type": "markdown",
   "id": "fdac64f0",
   "metadata": {},
   "source": [
    "Bài 2: Viết một chương trình để tính toán hệ số BMI (chỉ số khối cơ thể) của một người dựa trên cân nặng và chiều cao của họ."
   ]
  },
  {
   "cell_type": "code",
   "execution_count": 16,
   "id": "4ea6572d",
   "metadata": {},
   "outputs": [
    {
     "name": "stdout",
     "output_type": "stream",
     "text": [
      "Nhập cân nặng(kg): 57.5\n",
      "Nhập chiều cao(m): 1.65\n",
      "Cân nặng hoàn toàn bình thường\n"
     ]
    }
   ],
   "source": [
    "# Tính theo tiêu chuẩn Châu Á\n",
    "\n",
    "weight = float(input(\"Nhập cân nặng(kg): \"))\n",
    "high = float(input(\"Nhập chiều cao(m): \"))\n",
    "\n",
    "bmi = weight / (high * high)\n",
    "\n",
    "if bmi < 18.5:\n",
    "    print(\"Hơi gầy một chút\")\n",
    "elif 22.9 >= bmi >= 18.5:\n",
    "    print(\"Cân nặng hoàn toàn bình thường\")\n",
    "elif bmi >=23:\n",
    "    print(\"Hơi mập mạp một chút\")\n",
    "elif 24.9 >= bmi > 23:\n",
    "    print(\"Tiền béo phì\")\n",
    "elif 29 >= bmi >= 25:\n",
    "    print(\"Béo phì cấp độ 1\")\n",
    "elif bmi >= 30:\n",
    "    print(\"Bèo phì cấp độ 2\")\n"
   ]
  },
  {
   "cell_type": "markdown",
   "id": "5e927ffe",
   "metadata": {},
   "source": [
    "Bài 3: Viết một chương trình để tính tuổi của một người dựa trên ngày sinh của họ, phân họ ra làm các nhóm tuổi trẻ em (0->14),Thanh niên (15 - 30) , Trung niên (30 - 59), Cao niên (lớn hơn bằng 60)"
   ]
  },
  {
   "cell_type": "code",
   "execution_count": null,
   "id": "ae4bf07a",
   "metadata": {},
   "outputs": [],
   "source": [
    "year_of_birth = int(input\"Nhập năm sinh: \")\n",
    "year = int(input\"Nhập năm  muốn tính tuổi: \")\n",
    "\n",
    "age = year - year_of_bỉrth\n",
    "\n",
    "if 0 <= age <= 14:\n",
    "    print(\"Người này thuộc nhóm tuổi trẻ em\")\n",
    "elif 15 <= age <= 30:\n",
    "    print(\"Người này thuộc nhóm thanh niên\")\n",
    "elif 30 <= age <= 59:\n",
    "    print(\"Người này thuộc nhóm trung niên\")\n",
    "elif age >= 60:\n",
    "    print(\"Người này thuộc nhóm cao niên\")"
   ]
  },
  {
   "cell_type": "code",
   "execution_count": null,
   "id": "89216b69",
   "metadata": {},
   "outputs": [],
   "source": [
    "import datetime"
   ]
  },
  {
   "cell_type": "markdown",
   "id": "5a20b751",
   "metadata": {},
   "source": [
    "Bài 4 :Viết một chương trình để xác định xem một số có phải là số nguyên tố hay không."
   ]
  },
  {
   "cell_type": "code",
   "execution_count": 16,
   "id": "e1f85de7",
   "metadata": {},
   "outputs": [
    {
     "name": "stdout",
     "output_type": "stream",
     "text": [
      "Nhập số: 100\n",
      "100 Không phải là số nguyên tố\n"
     ]
    }
   ],
   "source": [
    "a = int(input(\"Nhập số: \"))\n",
    "\n",
    "if a < 2:\n",
    "    print(a,\"Không phải là số nguyên tố\")\n",
    "    \n",
    "for i in range(2,a-1):\n",
    "    if a % i == 0:\n",
    "        print(a,\"Không phải là số nguyên tố\")\n",
    "        break\n",
    "else:\n",
    "    print(a,\"Là số nguyên tố\")"
   ]
  },
  {
   "cell_type": "markdown",
   "id": "47127f74",
   "metadata": {},
   "source": [
    "Bài 5:  Viết chương trình kiểm tra bộ ba số a, b, c nhập vào từ bàn phím có phải là bộ ba cạnh của một tam giác hay không?"
   ]
  },
  {
   "cell_type": "code",
   "execution_count": 1,
   "id": "c9886361",
   "metadata": {},
   "outputs": [
    {
     "name": "stdout",
     "output_type": "stream",
     "text": [
      "Nhập cạnh a = 0\n",
      "Nhập cạnh b = 0\n",
      "Nhập cạnh c = 0\n",
      "Đó không phải ba cạnh của tam giác\n"
     ]
    }
   ],
   "source": [
    "a = int(input(\"Nhập cạnh a = \"))\n",
    "b = int(input(\"Nhập cạnh b = \"))\n",
    "c = int(input(\"Nhập cạnh c = \"))\n",
    "\n",
    "# Điều kiện của một hình tam giác là tổng 2 cạnh luôn lớn hơn cạnh còn lại.\n",
    "\n",
    "if a + b > c:\n",
    "    print(\"Đó là ba cạnh của một tam giác\")\n",
    "elif b + c > a:\n",
    "    print(\"Đó là ba cạnh của một tam giác\")\n",
    "elif a + c > b: \n",
    "    print(\"Đó là ba cạnh của một tam giác\")\n",
    "else:\n",
    "    print(\"Đó không phải ba cạnh của tam giác\")\n"
   ]
  },
  {
   "attachments": {
    "image.png": {
     "image/png": "[encoded data removed]"
    }
   },
   "cell_type": "markdown",
   "id": "e74a56ef",
   "metadata": {},
   "source": [
    "Bài 6 ** Viết chương trình tính phương trình bậc 3 ![image.png](attachment:image.png)"
   ]
  },
  {
   "cell_type": "code",
   "execution_count": null,
   "id": "6da6b13c",
   "metadata": {},
   "outputs": [],
   "source": [
    "# Delta = b**2 - 3ac       Delta != 0\n"
   ]
  },
  {
   "cell_type": "markdown",
   "id": "e853af3e",
   "metadata": {},
   "source": [
    "## Đề 2"
   ]
  },
  {
   "cell_type": "markdown",
   "id": "e15f8e23",
   "metadata": {},
   "source": [
    "Bài 1: Viết một chương trình để tính tổng của tất cả các số nguyên tố trong khoảng từ 1 đến một số nhập vào."
   ]
  },
  {
   "cell_type": "code",
   "execution_count": 5,
   "id": "bc8e659a",
   "metadata": {},
   "outputs": [
    {
     "name": "stdout",
     "output_type": "stream",
     "text": [
      "Nhập số a = 20\n",
      "1\n",
      "4\n",
      "9\n",
      "16\n"
     ]
    }
   ],
   "source": [
    "import math\n",
    "a = int(input(\"Nhập số a = \"))\n",
    "i = 1\n",
    "sum = 0\n",
    "\n",
    "while i <= a:\n",
    "    if i % (i-1) == 0:\n",
    "        print (i)\n",
    "    i += 1"
   ]
  },
  {
   "cell_type": "markdown",
   "id": "345d337a",
   "metadata": {},
   "source": [
    "Bài 2 :Giả sử có một chiếc xe đang lưu thông trên đường , gặp một ngã tư ,có một đèn tín hiệu giao thông, Hãy viết chương trình để điều khiển giao thông ở nut giao đó."
   ]
  },
  {
   "cell_type": "code",
   "execution_count": 5,
   "id": "189cc984",
   "metadata": {},
   "outputs": [
    {
     "name": "stdout",
     "output_type": "stream",
     "text": [
      "Màu đèn giao thông: yellow\n",
      "Xe đi chậm lại\n"
     ]
    }
   ],
   "source": [
    "traffic_light = input(\"Màu đèn giao thông: \")\n",
    "\n",
    "if traffic_light == \"red\":\n",
    "    print(\"Xe phải dừng lại\")\n",
    "elif traffic_light == \"yellow\":\n",
    "    print(\"Xe đi chậm lại\")\n",
    "else:\n",
    "    print(\"Xe được đi\")"
   ]
  },
  {
   "cell_type": "markdown",
   "id": "1b18a69e",
   "metadata": {},
   "source": [
    "Bài 3: Viết một chương trình yêu cầu dự báo thời tiết ngày mai và sau đó gợi ý quần áo phù hợp với thời tiết. Đề xuất sẽ thay đổi nếu nhiệt độ (được đo bằng độ C) là trên 20, 10 hoặc 5 độ, và nếu có mưa trên radar."
   ]
  },
  {
   "cell_type": "code",
   "execution_count": 10,
   "id": "ef2e7b7e",
   "metadata": {},
   "outputs": [
    {
     "name": "stdout",
     "output_type": "stream",
     "text": [
      "Nhiệt độ hôm nay là: 30\n",
      "Trời hôm nay có mưa không: yes\n",
      "Mặc đồ mát mẻ và nhớ đem theo áo mưa hoặc dù\n"
     ]
    }
   ],
   "source": [
    "temp = int(input(\"Nhiệt độ hôm nay là: \"))\n",
    "raining = input(\"Trời hôm nay có mưa không(Y/N): \")\n",
    "\n",
    "if temp >= 20:\n",
    "    if raining == \"N\":\n",
    "        print(\"Mặc đồ mát mẻ\")\n",
    "    else:\n",
    "        print(\"Mặc đồ mát mẻ và nhớ đem theo áo mưa hoặc dù\")\n",
    "        \n",
    "if 20 > temp >= 10:\n",
    "    if raining == \"N\":\n",
    "        print(\"Mặc đồ mùa thu gió bay bay\")\n",
    "    else:\n",
    "        print(\"Mặc đồ mùa thu gió bay bay và nhớ đem theo áo mưa hoặc dù\")\n",
    "        \n",
    "if 10 > temp >= 5:\n",
    "    if raining == \"N\":\n"
   ]
  },
  {
   "cell_type": "markdown",
   "id": "bcefbd69",
   "metadata": {},
   "source": [
    "Bài 4 : Viết chương trình thực hiện thông báo cho người sử dụng nhập vào giá trị ba số nguyên và tìm giá trị lớn nhất trong ba giá trị này"
   ]
  },
  {
   "cell_type": "code",
   "execution_count": 3,
   "id": "d7d1ebb1",
   "metadata": {},
   "outputs": [
    {
     "name": "stdout",
     "output_type": "stream",
     "text": [
      "Nhập số nguyên thứ nhất: 7\n",
      "Nhập số nguyên thứ hai: 8\n",
      "Nhập số nguyên thứ ba: 9\n",
      "9 là số lớn nhất\n"
     ]
    }
   ],
   "source": [
    "a = int(input(\"Nhập số nguyên thứ nhất: \"))\n",
    "b = int(input(\"Nhập số nguyên thứ hai: \"))\n",
    "c = int(input(\"Nhập số nguyên thứ ba: \"))\n",
    "\n",
    "if a > b and a > c:\n",
    "    print(a, \"là số lớn nhất\")\n",
    "elif b > a and b > c:\n",
    "    print(b, \"là số lớn nhất\")\n",
    "elif c > a and c > b:\n",
    "    print(c, \"là số lớn nhất\")\n"
   ]
  },
  {
   "cell_type": "markdown",
   "id": "450a22f3",
   "metadata": {},
   "source": [
    "Bài 5:  Viết chương trình nhập vào 3 số thực dương bất kỳ, xuất ra màn hình đó là tam giác thường, tam giác cân, tam giác vuông, tam giác vuông cân, tam giác đều hay không phải là ba cạnh của một tam giác?"
   ]
  },
  {
   "cell_type": "code",
   "execution_count": 15,
   "id": "64a7a8f3",
   "metadata": {},
   "outputs": [
    {
     "name": "stdout",
     "output_type": "stream",
     "text": [
      "Nhập số dương thứ nhất: 5\n",
      "Nhập số dương thứ hai: 5\n",
      "Nhập số dương thứ ba: 7\n"
     ]
    },
    {
     "ename": "SyntaxError",
     "evalue": "'break' outside loop (3499920015.py, line 14)",
     "output_type": "error",
     "traceback": [
      "\u001b[0;36m  File \u001b[0;32m\"/var/folders/m0/_wmnlwld29s4hdk4tdntrn9m0000gn/T/ipykernel_15924/3499920015.py\"\u001b[0;36m, line \u001b[0;32m14\u001b[0m\n\u001b[0;31m    break\u001b[0m\n\u001b[0m    ^\u001b[0m\n\u001b[0;31mSyntaxError\u001b[0m\u001b[0;31m:\u001b[0m 'break' outside loop\n"
     ]
    }
   ],
   "source": [
    "a = int(input(\"Nhập số dương thứ nhất: \"))\n",
    "b = int(input(\"Nhập số dương thứ hai: \"))\n",
    "c = int(input(\"Nhập số dương thứ ba: \"))\n",
    "\n",
    "if a + b <= c or a + c <= b or b + c <= a:\n",
    "    print(\"Đây không phải ba cạnh tam giác\")\n",
    "if a == b and b == c and a == c:\n",
    "    print(\"Đây là tam giác đều\")\n",
    "    \n",
    "#theo định luật pytago: tam giác vuông là bình phương cạnh huyền = tổng bình phương 2 cạnh bên\n",
    "if a+b>c:\n",
    "    if (a == b) or (b == c) or (a == c):\n",
    "        print(\"Đây là tam giác vuông cân\")\n",
    "        break\n",
    "    print(\"Đây là tam giác vuông\")\n",
    "    \n",
    "\n"
   ]
  },
  {
   "cell_type": "markdown",
   "id": "fde5b970",
   "metadata": {},
   "source": [
    "Bài 6 ** Viết chương trình để giải 1 câu đố cổ của Trung Quốc: Một trang trại thỏ và gà có 35 đầu, 94 chân, hỏi số thỏ và gà là bao nhiêu?\n",
    "(khuyến khích sài vòng lặp for nếu biết)"
   ]
  },
  {
   "cell_type": "code",
   "execution_count": 10,
   "id": "64a73ba9",
   "metadata": {},
   "outputs": [
    {
     "name": "stdout",
     "output_type": "stream",
     "text": [
      "Số thỏ là  12\n",
      "Số Gà là  23\n"
     ]
    }
   ],
   "source": [
    "#x + y = 35 => y = 35 - x\n",
    "#4x + 2y = 94 => 4x + 2(35 - x) = 94\n",
    "\n",
    "\n",
    "for x in range (1,36):\n",
    "    if (4*x + 2*(35 - x) == 94):\n",
    "        print(\"Số thỏ là \", x)\n",
    "        break\n",
    "print(\"Số Gà là \", 35-x)"
   ]
  },
  {
   "cell_type": "markdown",
   "id": "490ee030",
   "metadata": {},
   "source": [
    "## Đề 3 "
   ]
  },
  {
   "cell_type": "markdown",
   "id": "57b4126e",
   "metadata": {},
   "source": [
    "Bài 1: Dãy Fibonacci được tính dựa trên công thức sau:</p>\n",
    "\n",
    "f(n)=0 nếu n=0</p>\n",
    "f(n)=1 nếu n=1</p>\n",
    "f(n)=f(n-1)+f(n-2) nếu n>1</p>\n",
    "Hãy viết chương trình tính giá trị của f(n) với n là số được người dùng nhập vào. Ví dụ: Nếu n được nhập vào là 7 thì đầu ra của chương trình sẽ là 13"
   ]
  },
  {
   "cell_type": "code",
   "execution_count": 6,
   "id": "9dca956a",
   "metadata": {},
   "outputs": [
    {
     "name": "stdout",
     "output_type": "stream",
     "text": [
      "Nhập một số: 9\n",
      "Số Fibonacci thứ 9 là 34\n"
     ]
    }
   ],
   "source": [
    "num = int(input(\"Nhập một số: \"))\n",
    "\n",
    "if num == 0:\n",
    "    print(\"Số Fibonacci thứ\", num, \"là 0\")\n",
    "elif num == 1:\n",
    "    print(\"Số Fibonacci thứ\", num, \"là 1\")\n",
    "else:\n",
    "    a, b = 0, 1\n",
    "    for i in range(2, num + 1):\n",
    "        a, b = b, a + b\n",
    "    print(\"Số Fibonacci thứ\", num, \"là\", b)\n"
   ]
  },
  {
   "cell_type": "code",
   "execution_count": 7,
   "id": "2ba7b9a1",
   "metadata": {},
   "outputs": [
    {
     "name": "stdout",
     "output_type": "stream",
     "text": [
      "Nhập một số: 4\n",
      "Số Fibonacci thứ 4 là 3\n"
     ]
    }
   ],
   "source": [
    "def fibonacci(n):\n",
    "    if n == 0:\n",
    "        return 0\n",
    "    elif n == 1:\n",
    "        return 1\n",
    "    else:\n",
    "        return fibonacci(n - 1) + fibonacci(n - 2)\n",
    "\n",
    "num = int(input(\"Nhập một số: \"))\n",
    "\n",
    "print(\"Số Fibonacci thứ\", num, \"là\", fibonacci(num))"
   ]
  },
  {
   "cell_type": "markdown",
   "id": "b272aa6d",
   "metadata": {},
   "source": [
    "Bài 2 : Hãy viết chương trình nhập vào số nguyên dương n. Kiểm tra xem n có phải là số\n",
    "chính phương hay không? (số chính phương là số khi lấy căn bậc 2 có kết quả là\n",
    "nguyên). Hãy viết chương trình kiểm tra số chính phương."
   ]
  },
  {
   "cell_type": "code",
   "execution_count": 1,
   "id": "7b884ea0",
   "metadata": {},
   "outputs": [
    {
     "name": "stdout",
     "output_type": "stream",
     "text": [
      "Nhập một số nguyên dương:9\n",
      "9  là số chính phương\n"
     ]
    }
   ],
   "source": [
    "n = int(input(\"Nhập một số nguyên dương:\"))\n",
    "check = False\n",
    "\n",
    "for i in range(1, n + 1 ):\n",
    "    if (i**2 == n):\n",
    "        check = True\n",
    "        break\n",
    " \n",
    "if (check == True):\n",
    "    print(n, \" là số chính phương\")\n",
    "else:\n",
    "    print(n, \" không phải là số chính phương\")"
   ]
  },
  {
   "cell_type": "markdown",
   "id": "ba743590",
   "metadata": {},
   "source": [
    "Bài 3: Kiểm tra mùa trong năm xem tháng mấy là Thu, Đông, Xuân hay Hè. Nếu thông tin người dùng nhập là: Tháng 9, 10 hoặc 11 thì mùa là Thu; Tháng 12, tháng 01 hoặc 02 thì mùa Đông; Tháng 3, tháng 4 hoặc tháng 5 thì mùa Xuân; Tháng 6, tháng 7 hoặc tháng 8 thì mùa Hạ."
   ]
  },
  {
   "cell_type": "code",
   "execution_count": 4,
   "id": "62a724f7",
   "metadata": {},
   "outputs": [
    {
     "name": "stdout",
     "output_type": "stream",
     "text": [
      "Nhập tháng: 10\n",
      "Tháng 10 là mùa thu\n"
     ]
    }
   ],
   "source": [
    "month = int(input(\"Nhập tháng: \"))\n",
    "\n",
    "if month == 9 or 10 or 11:\n",
    "    print(f'Tháng {month} là mùa thu')\n",
    "elif month == 12 or 1 or 2:\n",
    "    print(f'Tháng {month} là mùa đông')\n",
    "elif month == 3 or 4 or 5:\n",
    "    print(f'Tháng {month} là mùa xuân')\n",
    "else:\n",
    "    print(f'Tháng {month} là mùa hạ')"
   ]
  },
  {
   "cell_type": "markdown",
   "id": "e0bc1dbb",
   "metadata": {},
   "source": [
    "Bài 4: Giải phương trình bậc nhất ax+b=0 (với a, b là kiểu số nguyên)."
   ]
  },
  {
   "cell_type": "code",
   "execution_count": 8,
   "id": "ead1b597",
   "metadata": {},
   "outputs": [
    {
     "name": "stdout",
     "output_type": "stream",
     "text": [
      "Nhập số nguyên a = 5\n",
      "Nhập số nguyên b = 6\n",
      "Phương trình này có một nghiệm là  -1.2\n"
     ]
    }
   ],
   "source": [
    "a = float(input(\"Nhập số nguyên a = \"))\n",
    "b = float(input(\"Nhập số nguyên b = \"))\n",
    "\n",
    "x = (-b)/a\n",
    "\n",
    "if a == 0:\n",
    "    if b == 0:\n",
    "        print(\"Phuơng trình này có vô số nghiệm\")\n",
    "    else:\n",
    "        print(\"Phương trình là vô nghiệm\")\n",
    "else:\n",
    "    print(\"Phương trình này có một nghiệm là \", x)"
   ]
  },
  {
   "cell_type": "markdown",
   "id": "a875c355",
   "metadata": {},
   "source": [
    "Bài 4: Giá bán cam tại siêu thị tính như sau: nếu khối lượng cam mua dưới 5kg thì giá bán là 12 000 đồng/kg, nếu khối lượng mua lớn hơn hoặc bằng 5kg thì giá bán là 10 000 đồng/kg. Viết chương trình nhập số lượng mua (tính theo kg) sau đó tính số tiền phải trả."
   ]
  },
  {
   "cell_type": "code",
   "execution_count": 9,
   "id": "1efa9ae5",
   "metadata": {},
   "outputs": [
    {
     "name": "stdout",
     "output_type": "stream",
     "text": [
      "Số kg cam cần mua: 5\n",
      "Tổng số tiền bạn phải trả là: 50000\n"
     ]
    }
   ],
   "source": [
    "orange = int(input(\"Số kg cam cần mua: \"))\n",
    "\n",
    "if orange < 5:\n",
    "    price = orange * 12000\n",
    "else:\n",
    "    price = orange * 10000\n",
    "    \n",
    "print(f'Tổng số tiền bạn phải trả là: {price}')"
   ]
  },
  {
   "cell_type": "markdown",
   "id": "69105c22",
   "metadata": {},
   "source": [
    "Bài 5** : viết chương trình chia thành 2 bảng A và B đấu ở Aff CUP 2022 và tính điểm(Thắng 3đ ,Bại 0đ,Hòa 1đ) thi đấu theo thể thức vòng tròn.</p>  Mỗi bảng đấu lấy 2 đội nhất và nhì bảng để thi đấu tiếp vào vòng bán kết ,đội nhất bảng A sẽ thi đấu với đội nhì bảng B và ngược lại.</p> Để chọn ra 2 đội xuất sắc nhất thi đấu ở trận chung kết nếu đội nào thắng sẽ là nhà vô địch .</p> Được biết trong danh sách có 10 đội (Thailand,Laos,Campuchia,Singapore,Vietnam, Indonesia, Malaysia, Philippines,Myanmar,Timor-Leste,Brunei) các đội tham gia ,các đội không được trùng nhau ở các bảng đấu."
   ]
  },
  {
   "cell_type": "code",
   "execution_count": 13,
   "id": "e1746183",
   "metadata": {},
   "outputs": [
    {
     "name": "stdout",
     "output_type": "stream",
     "text": [
      "---------Giải AFF CUP 2022 ------\n",
      " \n",
      "Đội bảng A là: ['Thailand', 'Laos', 'Cambodia', 'Singapore', 'Vietnam']\n",
      "Đội bảng B là: ['Indonesia', 'Malaysia', 'Philippines', 'Myanmar', 'Brunei']\n",
      "Enter the result of the match between Thailand and Laos: w\n",
      "Enter the result of the match between Thailand and Cambodia: D\n",
      "Enter the result of the match between Thailand and Singapore: L\n",
      "Enter the result of the match between Thailand and Vietnam: W\n",
      "Enter the result of the match between Indonesia and Malaysia: D\n",
      "Enter the result of the match between Indonesia and Philippines: L\n",
      "Enter the result of the match between Indonesia and Myanmar: L\n",
      "Enter the result of the match between Indonesia and Brunei: L\n",
      "Enter the result of the match between Laos and Cambodia: D\n",
      "Enter the result of the match between Laos and Singapore: W\n",
      "Enter the result of the match between Laos and Vietnam: W\n",
      "Enter the result of the match between Malaysia and Philippines: D\n",
      "Enter the result of the match between Malaysia and Myanmar: D\n",
      "Enter the result of the match between Malaysia and Brunei: D\n",
      "Enter the result of the match between Cambodia and Singapore: D\n",
      "Enter the result of the match between Cambodia and Vietnam: D\n",
      "Enter the result of the match between Philippines and Myanmar: D\n",
      "Enter the result of the match between Philippines and Brunei: L\n",
      "Enter the result of the match between Singapore and Vietnam: L\n",
      "Enter the result of the match between Myanmar and Brunei: L\n",
      "------Kêt quả vòng bảng ------\n",
      " \n",
      "Điểm số bảng a là:  [('Laos', 10), ('Thailand', 4), ('Cambodia', 4), ('Singapore', 4), ('Vietnam', 4)]\n",
      "Điểm số bảng b là:  [('Brunei', 10), ('Philippines', 5), ('Myanmar', 5), ('Malaysia', 4), ('Indonesia', 1)]\n",
      "The First best of each teams are: Laos (Bảng A) and Brunei (Bảng B)\n",
      "The Second best of each teams are: Thailand (Bảng A) and Philippines (Bảng B)\n"
     ]
    }
   ],
   "source": [
    "# List of participating teams\n",
    "teams = [\"Thailand\", \"Laos\", \"Cambodia\", \"Singapore\", \"Vietnam\", \"Indonesia\", \"Malaysia\", \"Philippines\", \"Myanmar\", \"Brunei\"]\n",
    "\n",
    "# Reorder the team list according to the group\n",
    "# Group A\n",
    "table_a = teams[:5]\n",
    "# Group B\n",
    "table_b = teams[5:]\n",
    "\n",
    "# Variable to store the scores of each team\n",
    "scores_a = {team: 0 for team in table_a}\n",
    "scores_b = {team: 0 for team in table_b}\n",
    "\n",
    "print(\"---------Giải AFF CUP 2022 ------\")\n",
    "print(\" \")\n",
    "print(\"Đội bảng A là:\",table_a)\n",
    "print(\"Đội bảng B là:\",table_b)\n",
    "\n",
    "# Round-robin\n",
    "for i in range(5):\n",
    "    # Matches between teams in Group A\n",
    "    for j in range(i,5):\n",
    "        if i == j:\n",
    "            continue\n",
    "        team1 = table_a[i]\n",
    "        team2 = table_a[j]\n",
    "        result = input(f\"Enter the result of the match between {team1} and {team2}: \")\n",
    "        if result == \"W\":\n",
    "            scores_a[team1] += 3\n",
    "        elif result == \"D\":\n",
    "            scores_a[team1] += 1\n",
    "            scores_a[team2] += 1\n",
    "        else:\n",
    "            scores_a[team2] += 3\n",
    "        \n",
    "    for j in range(i,5):\n",
    "        if i == j:\n",
    "            continue\n",
    "        team1 = table_b[i]\n",
    "        team2 = table_b[j]\n",
    "        result = input(f\"Enter the result of the match between {team1} and {team2}: \")\n",
    "        if result == \"W\":\n",
    "            scores_b[team1] += 3\n",
    "        elif result == \"D\":\n",
    "            scores_b[team1] += 1\n",
    "            scores_b[team2] += 1\n",
    "        else:\n",
    "            scores_b[team2] += 3\n",
    "\n",
    "sorted_scores_a = sorted(scores_a.items(), key=lambda x: x[1], reverse=True)\n",
    "sorted_scores_b = sorted(scores_b.items(), key=lambda x: x[1], reverse=True)\n",
    "\n",
    "print(\"------Kêt quả vòng bảng ------\")\n",
    "print(\" \")\n",
    "                                                            \n",
    "print(\"Điểm số bảng a là: \",sorted_scores_a)\n",
    "print(\"Điểm số bảng b là: \",sorted_scores_b)\n",
    "\n",
    "best_team_a = sorted_scores_a[0][0]\n",
    "best_team_b = sorted_scores_b[0][0]\n",
    "second_teanm_a = sorted_scores_a[1][0]\n",
    "second_team_b = sorted_scores_b[1][0]\n",
    "\n",
    "print(f\"The First best of each teams are: {best_team_a} (Bảng A) and {best_team_b} (Bảng B)\")\n",
    "print(f\"The Second best of each teams are: {second_teanm_a} (Bảng A) and {second_team_b} (Bảng B)\")\n",
    "\n",
    "best_a = sorted_scores_a[0]\n",
    "est_team_b = sorted_scores_b[0]\n",
    "second_teanm_a = sorted_scores_a[1]\n",
    "second_team_b = sorted_scores_b[1]\n",
    "\n"
   ]
  },
  {
   "cell_type": "code",
   "execution_count": null,
   "id": "e4010c74",
   "metadata": {},
   "outputs": [],
   "source": [
    "\n"
   ]
  },
  {
   "cell_type": "code",
   "execution_count": null,
   "id": "f3fb669c",
   "metadata": {},
   "outputs": [],
   "source": []
  }
 ],
 "metadata": {
  "kernelspec": {
   "display_name": "Python 3 (ipykernel)",
   "language": "python",
   "name": "python3"
  },
  "language_info": {
   "codemirror_mode": {
    "name": "ipython",
    "version": 3
   },
   "file_extension": ".py",
   "mimetype": "text/x-python",
   "name": "python",
   "nbconvert_exporter": "python",
   "pygments_lexer": "ipython3",
   "version": "3.9.13"
  }
 },
 "nbformat": 4,
 "nbformat_minor": 5
}
